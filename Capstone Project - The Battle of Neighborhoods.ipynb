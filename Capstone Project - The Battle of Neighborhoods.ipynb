{
 "cells": [
  {
   "cell_type": "markdown",
   "metadata": {
    "collapsed": true
   },
   "source": [
    "# Best Maui Neighborhood for Airbnb property. "
   ]
  },
  {
   "cell_type": "markdown",
   "metadata": {},
   "source": [
    "***\n",
    "\n",
    "### Maui, Hawaii is one of the best places for tourism in the United States. Using location data to explore a geographical location, I'll be trying to determine which neighborhood of Maui will be the best place to buy an Airbnb property to rent. One of the main factors is, of course, the place is close to the Pacific ocean. However, the place should also be located near some popular venues (preferably walking distance). I will use location data to find the best property to buy.\n",
    "\n",
    "***"
   ]
  },
  {
   "cell_type": "markdown",
   "metadata": {},
   "source": [
    "![Maui Map.](https://upload.wikimedia.org/wikipedia/commons/thumb/a/a1/Location_map_Maui.png/880px-Location_map_Maui.png)"
   ]
  },
  {
   "cell_type": "markdown",
   "metadata": {},
   "source": [
    "I will use Maui data from Wiki: https://en.wikipedia.org/wiki/Module:Location_map/data/United_States_Maui and also some real estate data: https://mauiexclusiverealestate.com/maui-district-map/ Then, I will explore it with Foursquare API."
   ]
  },
  {
   "cell_type": "markdown",
   "metadata": {},
   "source": [
    "*to be continued...*"
   ]
  }
 ],
 "metadata": {
  "kernelspec": {
   "display_name": "Python 3.6",
   "language": "python",
   "name": "python3"
  },
  "language_info": {
   "codemirror_mode": {
    "name": "ipython",
    "version": 3
   },
   "file_extension": ".py",
   "mimetype": "text/x-python",
   "name": "python",
   "nbconvert_exporter": "python",
   "pygments_lexer": "ipython3",
   "version": "3.6.9"
  }
 },
 "nbformat": 4,
 "nbformat_minor": 1
}
